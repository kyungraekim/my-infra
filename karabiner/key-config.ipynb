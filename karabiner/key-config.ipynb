{
 "cells": [
  {
   "cell_type": "code",
   "execution_count": 1,
   "outputs": [],
   "source": [
    "import json"
   ],
   "metadata": {
    "collapsed": false,
    "pycharm": {
     "name": "#%%\n"
    }
   }
  },
  {
   "cell_type": "code",
   "execution_count": 34,
   "outputs": [
    {
     "data": {
      "text/plain": "dict_keys(['maintainers', 'rules', 'title'])"
     },
     "execution_count": 34,
     "metadata": {},
     "output_type": "execute_result"
    }
   ],
   "source": [
    "with open(\".config/karabiner/assets/complex_modifications/razor.json\") as f:\n",
    "    setting = json.load(f)\n",
    "\n",
    "setting.keys()"
   ],
   "metadata": {
    "collapsed": false,
    "pycharm": {
     "name": "#%%\n"
    }
   }
  },
  {
   "cell_type": "code",
   "execution_count": 35,
   "outputs": [
    {
     "data": {
      "text/plain": "['Right Alt (Option) to change input source',\n 'Home key to the beginning of the line (Control + a)',\n 'End key to the end of the line (Control + e)',\n 'Swap control <-> command + asdfzxcv',\n 'PC-Style Screenshot (PrintScreen for whole, Shift+PrintScreen to select)',\n 'Command+E Opens Finder']"
     },
     "execution_count": 35,
     "metadata": {},
     "output_type": "execute_result"
    }
   ],
   "source": [
    "rules = setting[\"rules\"]\n",
    "[key_mapping['description'] for key_mapping in rules]"
   ],
   "metadata": {
    "collapsed": false,
    "pycharm": {
     "name": "#%%\n"
    }
   }
  },
  {
   "cell_type": "code",
   "execution_count": 36,
   "outputs": [
    {
     "name": "stdout",
     "output_type": "stream",
     "text": [
      "['a', 's', 'd', 'f', 'z', 'x', 'c', 'v', 'q', 'w', 'e', 'r', 'a', 's', 'd', 'f', 'z', 'x', 'c', 'v']\n"
     ]
    }
   ],
   "source": [
    "swap_mapping = rules[3][\"manipulators\"]\n",
    "print([swap_item['from']['key_code'] for swap_item in swap_mapping])"
   ],
   "metadata": {
    "collapsed": false,
    "pycharm": {
     "name": "#%%\n"
    }
   }
  },
  {
   "cell_type": "code",
   "execution_count": 37,
   "outputs": [],
   "source": [
    "import copy\n",
    "\n",
    "\n",
    "default_setting = {\n",
    "    'conditions': [\n",
    "        {'bundle_identifiers': ['^com\\\\.microsoft\\\\.rdc$',\n",
    "                                '^com\\\\.microsoft\\\\.rdc\\\\.',\n",
    "                                '^net\\\\.sf\\\\.cord$',\n",
    "                                '^com\\\\.thinomenon\\\\.RemoteDesktopConnection$',\n",
    "                                '^com\\\\.itap-mobile\\\\.qmote$',\n",
    "                                '^com\\\\.nulana\\\\.remotixmac$',\n",
    "                                '^com\\\\.p5sys\\\\.jump\\\\.mac\\\\.viewer$',\n",
    "                                '^com\\\\.p5sys\\\\.jump\\\\.mac\\\\.viewer\\\\.',\n",
    "                                '^com\\\\.teamviewer\\\\.TeamViewer$',\n",
    "                                '^com\\\\.vmware\\\\.horizon$',\n",
    "                                '^com\\\\.2X\\\\.Client\\\\.Mac$',\n",
    "                                '^com\\\\.vmware\\\\.fusion$',\n",
    "                                '^com\\\\.vmware\\\\.horizon$',\n",
    "                                '^com\\\\.vmware\\\\.view$',\n",
    "                                '^com\\\\.parallels\\\\.desktop$',\n",
    "                                '^com\\\\.parallels\\\\.vm$',\n",
    "                                '^com\\\\.parallels\\\\.desktop\\\\.console$',\n",
    "                                '^org\\\\.virtualbox\\\\.app\\\\.VirtualBoxVM$',\n",
    "                                '^com\\\\.citrix\\\\.XenAppViewer$',\n",
    "                                '^com\\\\.vmware\\\\.proxyApp\\\\.',\n",
    "                                '^com\\\\.parallels\\\\.winapp\\\\.',\n",
    "                                '^com\\\\.apple\\\\.Terminal$',\n",
    "                                '^co\\\\.zeit\\\\.hyperterm$',\n",
    "                                '^co\\\\.zeit\\\\.hyper$',\n",
    "                                '^io\\\\.alacritty$',\n",
    "                                '^net\\\\.kovidgoyal\\\\.kitty$',\n",
    "                                '^org\\\\.gnu\\\\.Emacs$',\n",
    "                                '^org\\\\.gnu\\\\.AquamacsEmacs$',\n",
    "                                '^org\\\\.gnu\\\\.Aquamacs$',\n",
    "                                '^org\\\\.pqrs\\\\.unknownapp.conkeror$'],\n",
    "         'type': 'frontmost_application_unless'}\n",
    "    ],\n",
    "    'from': {'key_code': '',\n",
    "             'modifiers': {'mandatory': [], 'optional': ['any']}},\n",
    "    'to': [{'key_code': '', 'modifiers': []}],\n",
    "    'type': 'basic'\n",
    "}\n",
    "\n",
    "\n",
    "def remove_swap(swap_list, letter):\n",
    "    return [swap_item for swap_item in swap_list if swap_item['from']['key_code'] != letter]\n",
    "\n",
    "\n",
    "def get_ctrl_cmd_swap(letter):\n",
    "    ctrl_setting = copy.deepcopy(default_setting)\n",
    "    ctrl_setting['from']['key_code'] = letter\n",
    "    ctrl_setting['from']['modifiers']['mandatory'] = ['left_control']\n",
    "    ctrl_setting['to'][0]['key_code'] = letter\n",
    "    ctrl_setting['to'][0]['modifiers'] = ['left_command']\n",
    "\n",
    "    cmd_setting = copy.deepcopy(default_setting)\n",
    "    cmd_setting['from']['key_code'] = letter\n",
    "    cmd_setting['from']['modifiers']['mandatory'] = ['left_command']\n",
    "    cmd_setting['to'][0]['key_code'] = letter\n",
    "    cmd_setting['to'][0]['modifiers'] = ['left_control']\n",
    "    return ctrl_setting, cmd_setting"
   ],
   "metadata": {
    "collapsed": false,
    "pycharm": {
     "name": "#%%\n"
    }
   }
  },
  {
   "cell_type": "code",
   "execution_count": 38,
   "outputs": [
    {
     "name": "stdout",
     "output_type": "stream",
     "text": [
      "['a', 's', 'd', 'f', 'z', 'x', 'c', 'v', 'a', 's', 'd', 'f', 'z', 'x', 'c', 'v']\n"
     ]
    }
   ],
   "source": [
    "swap_mapping = remove_swap(swap_mapping, 'q')\n",
    "swap_mapping = remove_swap(swap_mapping, 'w')\n",
    "swap_mapping = remove_swap(swap_mapping, 'e')\n",
    "swap_mapping = remove_swap(swap_mapping, 'r')\n",
    "print([swap_item['from']['key_code'] for swap_item in swap_mapping])"
   ],
   "metadata": {
    "collapsed": false,
    "pycharm": {
     "name": "#%%\n"
    }
   }
  },
  {
   "cell_type": "code",
   "execution_count": 41,
   "outputs": [],
   "source": [
    "rules[3][\"manipulators\"] = swap_mapping\n",
    "with open(\"/Users/kyungraekim/.config/karabiner/assets/complex_modifications/razor.json\", \"w\") as f:\n",
    "    json.dump(setting, f, indent=2)"
   ],
   "metadata": {
    "collapsed": false,
    "pycharm": {
     "name": "#%%\n"
    }
   }
  },
  {
   "cell_type": "code",
   "execution_count": null,
   "outputs": [],
   "source": [],
   "metadata": {
    "collapsed": false,
    "pycharm": {
     "name": "#%%\n"
    }
   }
  }
 ],
 "metadata": {
  "kernelspec": {
   "display_name": "Python 3",
   "language": "python",
   "name": "python3"
  },
  "language_info": {
   "codemirror_mode": {
    "name": "ipython",
    "version": 2
   },
   "file_extension": ".py",
   "mimetype": "text/x-python",
   "name": "python",
   "nbconvert_exporter": "python",
   "pygments_lexer": "ipython2",
   "version": "2.7.6"
  }
 },
 "nbformat": 4,
 "nbformat_minor": 0
}